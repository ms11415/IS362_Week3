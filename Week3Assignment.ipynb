{
 "cells": [
  {
   "cell_type": "markdown",
   "metadata": {},
   "source": [
    "# Bicycle Journey from NYC to Key West"
   ]
  },
  {
   "cell_type": "markdown",
   "metadata": {},
   "source": [
    "First, I calculated the mileage between New York, NY and Key West, FL by using Google Maps.  The total mileage was listed at 1551.\n",
    "\n",
    "Next, I imported the pandas module and then created three lists: one showing the date, one showing the odometer reading at the start of the day, and one showing the odometer reading at the end of the day.  Notice the the odometer reading lists are nearly identical, except for the initial and ending values."
   ]
  },
  {
   "cell_type": "code",
   "execution_count": 1,
   "metadata": {
    "collapsed": true
   },
   "outputs": [],
   "source": [
    "import pandas as pd\n",
    "dates = ['Feb 1', 'Feb 2', 'Feb 3', 'Feb 4', 'Feb 5', 'Feb 6', 'Feb 7', 'Feb 8', 'Feb 9', \n",
    "         'Feb 10', 'Feb 11', 'Feb 12', 'Feb 13', 'Feb 14', 'Feb 15', 'Feb 16', 'Feb 17', \n",
    "         'Feb 18', 'Feb 19', 'Feb 20', 'Feb 21', 'Feb 22', 'Feb 23', 'Feb 24', 'Feb 25',\n",
    "         'Feb 26']\n",
    "start = [0, 55, 120, 175, 240, 295, 360, 415, 480, 535, 600, 655, 720, 775, 840, 895, 960, \n",
    "        1015, 1080, 1135, 1200, 1255, 1320, 1375, 1440, 1495]\n",
    "end = [55, 120, 175, 240, 295, 360, 415, 480, 535, 600, 655, 720, 775, 840, 895, 960, \n",
    "       1015, 1080, 1135, 1200, 1255, 1320, 1375, 1440, 1495, 1551]"
   ]
  },
  {
   "cell_type": "markdown",
   "metadata": {},
   "source": [
    "Next, I created two Pandas series from the odometer reading lists, and print each series to verify the data."
   ]
  },
  {
   "cell_type": "code",
   "execution_count": 2,
   "metadata": {},
   "outputs": [
    {
     "data": {
      "text/plain": [
       "Feb 1        0\n",
       "Feb 2       55\n",
       "Feb 3      120\n",
       "Feb 4      175\n",
       "Feb 5      240\n",
       "Feb 6      295\n",
       "Feb 7      360\n",
       "Feb 8      415\n",
       "Feb 9      480\n",
       "Feb 10     535\n",
       "Feb 11     600\n",
       "Feb 12     655\n",
       "Feb 13     720\n",
       "Feb 14     775\n",
       "Feb 15     840\n",
       "Feb 16     895\n",
       "Feb 17     960\n",
       "Feb 18    1015\n",
       "Feb 19    1080\n",
       "Feb 20    1135\n",
       "Feb 21    1200\n",
       "Feb 22    1255\n",
       "Feb 23    1320\n",
       "Feb 24    1375\n",
       "Feb 25    1440\n",
       "Feb 26    1495\n",
       "dtype: int64"
      ]
     },
     "execution_count": 2,
     "metadata": {},
     "output_type": "execute_result"
    }
   ],
   "source": [
    "beginning = pd.Series(data=start, index=dates)\n",
    "beginning"
   ]
  },
  {
   "cell_type": "code",
   "execution_count": 3,
   "metadata": {},
   "outputs": [
    {
     "data": {
      "text/plain": [
       "Feb 1       55\n",
       "Feb 2      120\n",
       "Feb 3      175\n",
       "Feb 4      240\n",
       "Feb 5      295\n",
       "Feb 6      360\n",
       "Feb 7      415\n",
       "Feb 8      480\n",
       "Feb 9      535\n",
       "Feb 10     600\n",
       "Feb 11     655\n",
       "Feb 12     720\n",
       "Feb 13     775\n",
       "Feb 14     840\n",
       "Feb 15     895\n",
       "Feb 16     960\n",
       "Feb 17    1015\n",
       "Feb 18    1080\n",
       "Feb 19    1135\n",
       "Feb 20    1200\n",
       "Feb 21    1255\n",
       "Feb 22    1320\n",
       "Feb 23    1375\n",
       "Feb 24    1440\n",
       "Feb 25    1495\n",
       "Feb 26    1551\n",
       "dtype: int64"
      ]
     },
     "execution_count": 3,
     "metadata": {},
     "output_type": "execute_result"
    }
   ],
   "source": [
    "ending = pd.Series(data=end, index=dates)\n",
    "ending"
   ]
  },
  {
   "cell_type": "markdown",
   "metadata": {},
   "source": [
    "Next, I use Pandas magic to simply subtract the beginning series from the end series, to show how many miles were biked each day!"
   ]
  },
  {
   "cell_type": "code",
   "execution_count": 4,
   "metadata": {},
   "outputs": [
    {
     "data": {
      "text/plain": [
       "Feb 1     55\n",
       "Feb 2     65\n",
       "Feb 3     55\n",
       "Feb 4     65\n",
       "Feb 5     55\n",
       "Feb 6     65\n",
       "Feb 7     55\n",
       "Feb 8     65\n",
       "Feb 9     55\n",
       "Feb 10    65\n",
       "Feb 11    55\n",
       "Feb 12    65\n",
       "Feb 13    55\n",
       "Feb 14    65\n",
       "Feb 15    55\n",
       "Feb 16    65\n",
       "Feb 17    55\n",
       "Feb 18    65\n",
       "Feb 19    55\n",
       "Feb 20    65\n",
       "Feb 21    55\n",
       "Feb 22    65\n",
       "Feb 23    55\n",
       "Feb 24    65\n",
       "Feb 25    55\n",
       "Feb 26    56\n",
       "dtype: int64"
      ]
     },
     "execution_count": 4,
     "metadata": {},
     "output_type": "execute_result"
    }
   ],
   "source": [
    "dailymiles = ending - beginning\n",
    "dailymiles"
   ]
  }
 ],
 "metadata": {
  "kernelspec": {
   "display_name": "Python 2",
   "language": "python",
   "name": "python2"
  },
  "language_info": {
   "codemirror_mode": {
    "name": "ipython",
    "version": 2
   },
   "file_extension": ".py",
   "mimetype": "text/x-python",
   "name": "python",
   "nbconvert_exporter": "python",
   "pygments_lexer": "ipython2",
   "version": "2.7.13"
  }
 },
 "nbformat": 4,
 "nbformat_minor": 2
}
