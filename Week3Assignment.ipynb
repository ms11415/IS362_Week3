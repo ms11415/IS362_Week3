{
 "cells": [
  {
   "cell_type": "markdown",
   "metadata": {},
   "source": [
    "# Bicycle Journey from NYC to Key West"
   ]
  },
  {
   "cell_type": "markdown",
   "metadata": {},
   "source": [
    "First, I calculated the mileage between New York, NY and Key West, FL by using Google Maps.  The total mileage was listed at 1551.\n",
    "\n",
    "Next, I imported the pandas module and then created two lists: one showing the odometer reading at the start of the day, and one showing the odometer reading at the end of the day.  Notice the the odometer reading lists are nearly identical, except for the initial and ending values.  I also created a Pandas Series to generate a date range."
   ]
  },
  {
   "cell_type": "code",
   "execution_count": 1,
   "metadata": {
    "collapsed": true
   },
   "outputs": [],
   "source": [
    "import pandas as pd\n",
    "start = [0, 55, 120, 175, 240, 295, 360, 415, 480, 535, 600, 655, 720, 775, 840, 895, 960, \n",
    "        1015, 1080, 1135, 1200, 1255, 1320, 1375, 1440, 1495]\n",
    "end = [55, 120, 175, 240, 295, 360, 415, 480, 535, 600, 655, 720, 775, 840, 895, 960, \n",
    "       1015, 1080, 1135, 1200, 1255, 1320, 1375, 1440, 1495, 1551]\n",
    "dates = pd.date_range('2018-02-01', '2018-02-26')"
   ]
  },
  {
   "cell_type": "markdown",
   "metadata": {},
   "source": [
    "Next, I created two Pandas series from the odometer reading lists, and print each series to verify the data."
   ]
  },
  {
   "cell_type": "code",
   "execution_count": 2,
   "metadata": {},
   "outputs": [
    {
     "data": {
      "text/plain": [
       "2018-02-01       0\n",
       "2018-02-02      55\n",
       "2018-02-03     120\n",
       "2018-02-04     175\n",
       "2018-02-05     240\n",
       "2018-02-06     295\n",
       "2018-02-07     360\n",
       "2018-02-08     415\n",
       "2018-02-09     480\n",
       "2018-02-10     535\n",
       "2018-02-11     600\n",
       "2018-02-12     655\n",
       "2018-02-13     720\n",
       "2018-02-14     775\n",
       "2018-02-15     840\n",
       "2018-02-16     895\n",
       "2018-02-17     960\n",
       "2018-02-18    1015\n",
       "2018-02-19    1080\n",
       "2018-02-20    1135\n",
       "2018-02-21    1200\n",
       "2018-02-22    1255\n",
       "2018-02-23    1320\n",
       "2018-02-24    1375\n",
       "2018-02-25    1440\n",
       "2018-02-26    1495\n",
       "Freq: D, dtype: int64"
      ]
     },
     "execution_count": 2,
     "metadata": {},
     "output_type": "execute_result"
    }
   ],
   "source": [
    "beginning = pd.Series(data=start, index=dates)\n",
    "beginning"
   ]
  },
  {
   "cell_type": "code",
   "execution_count": 3,
   "metadata": {},
   "outputs": [
    {
     "data": {
      "text/plain": [
       "2018-02-01      55\n",
       "2018-02-02     120\n",
       "2018-02-03     175\n",
       "2018-02-04     240\n",
       "2018-02-05     295\n",
       "2018-02-06     360\n",
       "2018-02-07     415\n",
       "2018-02-08     480\n",
       "2018-02-09     535\n",
       "2018-02-10     600\n",
       "2018-02-11     655\n",
       "2018-02-12     720\n",
       "2018-02-13     775\n",
       "2018-02-14     840\n",
       "2018-02-15     895\n",
       "2018-02-16     960\n",
       "2018-02-17    1015\n",
       "2018-02-18    1080\n",
       "2018-02-19    1135\n",
       "2018-02-20    1200\n",
       "2018-02-21    1255\n",
       "2018-02-22    1320\n",
       "2018-02-23    1375\n",
       "2018-02-24    1440\n",
       "2018-02-25    1495\n",
       "2018-02-26    1551\n",
       "Freq: D, dtype: int64"
      ]
     },
     "execution_count": 3,
     "metadata": {},
     "output_type": "execute_result"
    }
   ],
   "source": [
    "ending = pd.Series(data=end, index=dates)\n",
    "ending"
   ]
  },
  {
   "cell_type": "markdown",
   "metadata": {},
   "source": [
    "Next, I use Pandas magic to simply subtract the beginning series from the end series, to show how many miles were biked each day!"
   ]
  },
  {
   "cell_type": "code",
   "execution_count": 4,
   "metadata": {},
   "outputs": [
    {
     "data": {
      "text/plain": [
       "2018-02-01    55\n",
       "2018-02-02    65\n",
       "2018-02-03    55\n",
       "2018-02-04    65\n",
       "2018-02-05    55\n",
       "2018-02-06    65\n",
       "2018-02-07    55\n",
       "2018-02-08    65\n",
       "2018-02-09    55\n",
       "2018-02-10    65\n",
       "2018-02-11    55\n",
       "2018-02-12    65\n",
       "2018-02-13    55\n",
       "2018-02-14    65\n",
       "2018-02-15    55\n",
       "2018-02-16    65\n",
       "2018-02-17    55\n",
       "2018-02-18    65\n",
       "2018-02-19    55\n",
       "2018-02-20    65\n",
       "2018-02-21    55\n",
       "2018-02-22    65\n",
       "2018-02-23    55\n",
       "2018-02-24    65\n",
       "2018-02-25    55\n",
       "2018-02-26    56\n",
       "Freq: D, dtype: int64"
      ]
     },
     "execution_count": 4,
     "metadata": {},
     "output_type": "execute_result"
    }
   ],
   "source": [
    "dailymiles = ending - beginning\n",
    "dailymiles"
   ]
  }
 ],
 "metadata": {
  "kernelspec": {
   "display_name": "Python 2",
   "language": "python",
   "name": "python2"
  },
  "language_info": {
   "codemirror_mode": {
    "name": "ipython",
    "version": 2
   },
   "file_extension": ".py",
   "mimetype": "text/x-python",
   "name": "python",
   "nbconvert_exporter": "python",
   "pygments_lexer": "ipython2",
   "version": "2.7.13"
  }
 },
 "nbformat": 4,
 "nbformat_minor": 2
}
